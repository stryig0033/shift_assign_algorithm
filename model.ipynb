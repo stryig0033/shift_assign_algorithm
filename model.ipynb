{
 "cells": [
  {
   "cell_type": "code",
   "execution_count": null,
   "metadata": {},
   "outputs": [],
   "source": [
    "#ライブラリの読み込み\n",
    "import pandas as pd\n",
    "from copy import deepcopy\n",
    "\n",
    "#自作関数の読み込み\n",
    "import modules.form_to_dict as ftd\n",
    "import modules.shift_calculation_engine as sce\n",
    "import modules.shift_visualization as sv\n",
    "import modules.required_employees_culculation as rec"
   ]
  },
  {
   "cell_type": "code",
   "execution_count": null,
   "metadata": {},
   "outputs": [],
   "source": [
    "# フォームの回答結果から従業員名(list)と出勤可否(dict)を作成\n",
    "employees_name, availablity_dict_origin = ftd.form_of_employees_availability_to_dict(\"data/availability_test.csv\")"
   ]
  },
  {
   "cell_type": "code",
   "execution_count": null,
   "metadata": {},
   "outputs": [],
   "source": [
    "# データのカラムは下で定義\n",
    "data = [\n",
    "    [\"6F\", \"East\", 20, \"19:30\", \"22:30\"],\n",
    "    [\"5F\", \"West\", 20, \"13:00\", \"17:00\"],\n",
    "    [\"4F\", \"Terrace\", 20, \"8:30\", \"13:30\"],\n",
    "]"
   ]
  },
  {
   "cell_type": "code",
   "execution_count": null,
   "metadata": {},
   "outputs": [],
   "source": [
    "required_df = rec.required_employees(data)\n",
    "\n",
    "# 各フロアごとの従業員数\n",
    "employee_4f = required_df.loc[\"4F\"].to_list()\n",
    "employee_5f = required_df.loc[\"5F\"].to_list()\n",
    "employee_6f = required_df.loc[\"6F\"].to_list()"
   ]
  },
  {
   "cell_type": "code",
   "execution_count": null,
   "metadata": {},
   "outputs": [],
   "source": [
    "floors_dict = {\"4F\": employee_4f, \"5F\": employee_5f, \"6F\": employee_6f}\n",
    "\n",
    "# 時間を30分ごとのスロットに変換する関数\n",
    "def time_to_slot(time):\n",
    "    return int(time * 2) - 14\n",
    "\n",
    "# シフトにアサインされた時間を出勤不可に更新する関数\n",
    "def update_availability(shifts, availability):\n",
    "    for name, times in shifts.items():\n",
    "        if name in availability:\n",
    "            start_slot = time_to_slot(times[0])\n",
    "            end_slot = time_to_slot(times[1])\n",
    "            for i in range(start_slot, end_slot):\n",
    "                availability[name][i] = 0\n",
    "                \n",
    "    return availability\n",
    "\n",
    "availability_dict = deepcopy(availablity_dict_origin)\n",
    "\n",
    "for floor, employee_data in floors_dict.items():\n",
    "    \n",
    "    print(availability_dict)\n",
    "    \n",
    "    # シフトアサインの計算\n",
    "    shifts = sce.shift_calculation_engine(employees_name, availability_dict, employee_data)\n",
    "    \n",
    "    # 計算されたアサインを表示\n",
    "    print(shifts)\n",
    "    \n",
    "    # シフトの可視化（タイトルにフロア名を使用）\n",
    "    sv.shift_visualization(shifts, floor)\n",
    "\n",
    "    # 出勤可否を更新\n",
    "    availability_dict = update_availability(shifts, availability_dict)"
   ]
  },
  {
   "cell_type": "markdown",
   "metadata": {},
   "source": [
    "### 次やること\n",
    "・1日に対する各会場への従業員割当は完了したので、その割り当ての効用を最大化するようにしたい。  \n",
    "・4階、5階、6階について、現在はそれぞれを順番に計算してシフトを割り当てているので、必然的に4階のアサインが充実して、6階のアサインが乏しくなる。  \n",
    "・4,5,6階のすべての順番(3!通り)でアルゴリズムを回し、出勤可否のデータに対して損失関数を設定。一番損失が小さいものをシフトの結果とできるような仕組みを作りたい。"
   ]
  },
  {
   "cell_type": "markdown",
   "metadata": {},
   "source": [
    "## 宴会データのcsvファイルをjson化"
   ]
  },
  {
   "cell_type": "code",
   "execution_count": null,
   "metadata": {},
   "outputs": [],
   "source": [
    "# 宴会婚礼情報のcsvファイルをjson化\n",
    "\n",
    "\n",
    "parties = pd.read_csv(\"data/parties_data.csv\",encoding='cp932')\n",
    "\n",
    "# 階層構造に基づいてデータを整理\n",
    "grouped = parties.groupby(['日程', '会場', 'time'])\n",
    "structured_data = grouped.apply(lambda x: x.drop(['日程', '会場', 'time'], axis=1).to_dict(orient='records')).reset_index().rename(columns={0: '詳細'})\n",
    "\n",
    "# JSON形式に変換してファイルに保存\n",
    "json_data = structured_data.to_json(orient='records', force_ascii=False)\n",
    "#with open('data.json', 'w', encoding='utf-8') as f:\n",
    "    #f.write(json_data)\n",
    "\n",
    "# 結果を確認\n",
    "print(json_data)\n",
    "structured_data.head(50)"
   ]
  }
 ],
 "metadata": {
  "kernelspec": {
   "display_name": "Python 3",
   "language": "python",
   "name": "python3"
  },
  "language_info": {
   "codemirror_mode": {
    "name": "ipython",
    "version": 3
   },
   "file_extension": ".py",
   "mimetype": "text/x-python",
   "name": "python",
   "nbconvert_exporter": "python",
   "pygments_lexer": "ipython3",
   "version": "3.11.1"
  }
 },
 "nbformat": 4,
 "nbformat_minor": 2
}
